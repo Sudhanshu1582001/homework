{
 "cells": [
  {
   "cell_type": "code",
   "execution_count": 1,
   "metadata": {},
   "outputs": [],
   "source": [
    "#Q1 statstics is the science of collecting organizing and analyzing data."
   ]
  },
  {
   "cell_type": "code",
   "execution_count": 2,
   "metadata": {},
   "outputs": [],
   "source": [
    "#Q2 There re two types of statstics descriptive and infertial in descriptive stat we organize and summarize data, in infertial we give conculsion."
   ]
  },
  {
   "cell_type": "code",
   "execution_count": 6,
   "metadata": {},
   "outputs": [],
   "source": [
    "#Q3There are two types of data quantitative and qualitative in quatitative data we deal with numerical values example no . of chikderns in a family (discreate,continous), and in ualitative we deal with catogercal variables eg blood group(nominal,odinal)"
   ]
  },
  {
   "cell_type": "code",
   "execution_count": 7,
   "metadata": {},
   "outputs": [],
   "source": [
    "#Q4 Quantative data= 3,4 and Qualitative = 1,2"
   ]
  },
  {
   "cell_type": "markdown",
   "metadata": {},
   "source": [
    "Q5 Levels of measurement, also called scales of measurement, tell you how precisely variables are recorded. In scientific research, a variable is anything that can take on different values across your data set (e.g., height or test scores).\n",
    "There are 4 levels of measurement:\n",
    "\n",
    "    Nominal: the data can only be categorized\n",
    "    Ordinal: the data can be categorized and ranked\n",
    "    Interval: the data can be categorized, ranked, and evenly spaced\n",
    "    Ratio: the data can be categorized, ranked, evenly spaced, and has a natural zero.\n"
   ]
  },
  {
   "cell_type": "markdown",
   "metadata": {},
   "source": [
    "Q7 nominal data = the data can only be categorized\n",
    "   odinal data = the data can be categorized and ranked"
   ]
  },
  {
   "cell_type": "markdown",
   "metadata": {},
   "source": [
    "Q8 histogram"
   ]
  },
  {
   "cell_type": "markdown",
   "metadata": {},
   "source": [
    "Q9 descriptive =  In this we organize and summarize the data \n",
    "   inferential statistics=  this data is given on the base of conclusion"
   ]
  },
  {
   "cell_type": "markdown",
   "metadata": {},
   "source": [
    "Q10 mean,mode,median,variance,standard deviation"
   ]
  }
 ],
 "metadata": {
  "kernelspec": {
   "display_name": "Python 3",
   "language": "python",
   "name": "python3"
  },
  "language_info": {
   "codemirror_mode": {
    "name": "ipython",
    "version": 3
   },
   "file_extension": ".py",
   "mimetype": "text/x-python",
   "name": "python",
   "nbconvert_exporter": "python",
   "pygments_lexer": "ipython3",
   "version": "3.8.5"
  }
 },
 "nbformat": 4,
 "nbformat_minor": 4
}
