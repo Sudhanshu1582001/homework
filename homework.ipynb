{
 "cells": [
  {
   "cell_type": "code",
   "execution_count": 1,
   "id": "3079abc2-c78f-4d48-a42c-3ddea33cdd6c",
   "metadata": {},
   "outputs": [],
   "source": [
    "#Q1\n",
    "a = ['sudha',[1,2,3],1.2,(1,2,3)]"
   ]
  },
  {
   "cell_type": "markdown",
   "id": "a15dd2d2-a3e4-460f-a7c8-cfb8e943a795",
   "metadata": {},
   "source": [
    "Q2\n",
    "i. string\n",
    "ii.string\n",
    "iii.list\n",
    "iv. float\n"
   ]
  },
  {
   "cell_type": "markdown",
   "id": "019aff89-f752-405f-83d2-c6654f3c83f1",
   "metadata": {},
   "source": [
    "i. / this is used for float divison\n",
    "ii.// this is used for floor divison\n",
    "iii. ths is used for to get the remainder\n",
    "iv. ** this is used for to put power "
   ]
  },
  {
   "cell_type": "code",
   "execution_count": 25,
   "id": "c9b83cb9-a61d-4fce-8890-4ea5d6e772b1",
   "metadata": {},
   "outputs": [
    {
     "name": "stdout",
     "output_type": "stream",
     "text": [
      "<class 'int'>\n",
      "<class 'int'>\n",
      "<class 'int'>\n",
      "<class 'str'>\n",
      "<class 'float'>\n",
      "<class 'tuple'>\n",
      "<class 'list'>\n",
      "<class 'int'>\n",
      "<class 'list'>\n",
      "<class 'int'>\n"
     ]
    }
   ],
   "source": [
    "#Q4\n",
    "l = [1,2,3,'s',2.4,(5,4),[1],5,[9,8],7]\n",
    "for i in l:\n",
    "    print(type(i))"
   ]
  },
  {
   "cell_type": "code",
   "execution_count": 34,
   "id": "2f1a7dd6-35a4-4ad1-89fe-168d199640fc",
   "metadata": {},
   "outputs": [
    {
     "name": "stdout",
     "output_type": "stream",
     "text": [
      "\n",
      "\n",
      "3\n",
      "\n",
      "\n",
      "6\n",
      "\n",
      "\n",
      "9\n",
      "\n",
      "\n",
      "12\n",
      "\n",
      "\n",
      "15\n",
      "\n",
      "\n",
      "18\n",
      "\n",
      "\n",
      "21\n",
      "\n",
      "\n",
      "24\n",
      "\n"
     ]
    }
   ],
   "source": [
    "#Q6 \n",
    "s = [1,2,3,4,5,6,7,8,9,10,11,12,13,14,15,16,17,18,19,20,21,22,23,24,25]\n",
    "for number in s:\n",
    "    if number % 3 == 0:\n",
    "        print(number)\n",
    "    else:\n",
    "        print()"
   ]
  },
  {
   "cell_type": "markdown",
   "id": "f51eca56-9144-4804-b485-8878dfd8a67d",
   "metadata": {},
   "source": [
    "Q7 mutable objects can be modified(list,dict)\n",
    "immutable can not be modified(string,tuples"
   ]
  },
  {
   "cell_type": "code",
   "execution_count": 36,
   "id": "8d14026d-ae40-4179-b5e1-172ce9db8598",
   "metadata": {},
   "outputs": [],
   "source": [
    "x = [6,4,3]"
   ]
  },
  {
   "cell_type": "code",
   "execution_count": 37,
   "id": "6febba15-0dc5-4ab6-b317-0bb1cdc43c15",
   "metadata": {},
   "outputs": [],
   "source": [
    "x[0] = 1"
   ]
  },
  {
   "cell_type": "code",
   "execution_count": 38,
   "id": "211c6c10-7be0-440e-b6f0-aa7f78324feb",
   "metadata": {},
   "outputs": [
    {
     "data": {
      "text/plain": [
       "[1, 4, 3]"
      ]
     },
     "execution_count": 38,
     "metadata": {},
     "output_type": "execute_result"
    }
   ],
   "source": [
    "x "
   ]
  },
  {
   "cell_type": "code",
   "execution_count": 39,
   "id": "22384a4c-b364-414f-aa58-8146ef566f69",
   "metadata": {},
   "outputs": [],
   "source": [
    "sr = 'sudh'"
   ]
  },
  {
   "cell_type": "code",
   "execution_count": 40,
   "id": "68b17c30-446f-4757-9762-27de13fbf5a5",
   "metadata": {},
   "outputs": [
    {
     "ename": "NameError",
     "evalue": "name 'p' is not defined",
     "output_type": "error",
     "traceback": [
      "\u001b[0;31m---------------------------------------------------------------------------\u001b[0m",
      "\u001b[0;31mNameError\u001b[0m                                 Traceback (most recent call last)",
      "Cell \u001b[0;32mIn[40], line 1\u001b[0m\n\u001b[0;32m----> 1\u001b[0m sr[\u001b[38;5;241m0\u001b[39m]\u001b[38;5;241m=\u001b[39m\u001b[43mp\u001b[49m\n",
      "\u001b[0;31mNameError\u001b[0m: name 'p' is not defined"
     ]
    }
   ],
   "source": [
    "sr[0]=p"
   ]
  },
  {
   "cell_type": "code",
   "execution_count": null,
   "id": "11e7ca58-422d-42f0-91ef-d159682868fd",
   "metadata": {},
   "outputs": [],
   "source": []
  }
 ],
 "metadata": {
  "kernelspec": {
   "display_name": "Python 3 (ipykernel)",
   "language": "python",
   "name": "python3"
  },
  "language_info": {
   "codemirror_mode": {
    "name": "ipython",
    "version": 3
   },
   "file_extension": ".py",
   "mimetype": "text/x-python",
   "name": "python",
   "nbconvert_exporter": "python",
   "pygments_lexer": "ipython3",
   "version": "3.10.8"
  }
 },
 "nbformat": 4,
 "nbformat_minor": 5
}
