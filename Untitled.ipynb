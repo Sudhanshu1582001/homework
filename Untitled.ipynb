{
 "cells": [
  {
   "cell_type": "markdown",
   "id": "82d41bb9-1f47-4106-a48f-6f50e11df099",
   "metadata": {},
   "source": [
    " Q1 we do comments with hash symbol(#). there are two types of comments (i) inline comment(for single line comment) (ii) block comment(for multi line comments, )\n"
   ]
  },
  {
   "cell_type": "markdown",
   "id": "9076849a-6be8-4c85-a2c6-90f37d64dfe6",
   "metadata": {},
   "source": [
    "Q2 variables is a refrence for a data it means  variable reserve memory for a data . we declare and  assign value to the  variable by putting eqaul sign(=) ex a = 1"
   ]
  },
  {
   "cell_type": "markdown",
   "id": "a4748163-e737-4c6d-8e09-676bef2bc75f",
   "metadata": {},
   "source": [
    "Q3 we convert one data type to another by using built in functions ex if have to convert  a 'sring' to to integer we use int built in function (int('string'))"
   ]
  },
  {
   "cell_type": "markdown",
   "id": "10b0540c-2667-4d64-b32c-3bbdf139afc4",
   "metadata": {},
   "source": [
    "Q4 if you have to run command use python followed by script the script path."
   ]
  },
  {
   "cell_type": "code",
   "execution_count": 5,
   "id": "9affdfc7-aaae-4741-a346-c41c4f99bcbd",
   "metadata": {},
   "outputs": [
    {
     "name": "stdout",
     "output_type": "stream",
     "text": [
      "[2, 3]\n"
     ]
    }
   ],
   "source": [
    "#Q5\n",
    "my_list = [1, 2, 3, 4, 5]\n",
    "print(my_list[1:3])"
   ]
  },
  {
   "cell_type": "markdown",
   "id": "4ebc8d14-c585-4936-8a43-a05866a1ff59",
   "metadata": {},
   "source": [
    "Q6 complex number is that, which is  represented in the form of a+ib where a and b is a real number and  i is iota for imaginary part. In python we represent python in the form of x+yj "
   ]
  },
  {
   "cell_type": "code",
   "execution_count": 6,
   "id": "bd0dbfd9-3cb9-476b-b5d6-16b2e9bea6a1",
   "metadata": {},
   "outputs": [],
   "source": [
    "#Q7 age = 25"
   ]
  },
  {
   "cell_type": "code",
   "execution_count": 7,
   "id": "a085233e-efa6-4257-9a78-18d81bfe5abe",
   "metadata": {},
   "outputs": [],
   "source": [
    "#Q8 price = 9.99 the value represent a floating number"
   ]
  },
  {
   "cell_type": "code",
   "execution_count": 11,
   "id": "40d11717-6bbe-486d-8424-ca724010814e",
   "metadata": {},
   "outputs": [
    {
     "name": "stdout",
     "output_type": "stream",
     "text": [
      "sudhanshu kumar\n"
     ]
    }
   ],
   "source": [
    "#Q9\n",
    "name = 'sudhanshu kumar'\n",
    "print(name)"
   ]
  },
  {
   "cell_type": "code",
   "execution_count": 14,
   "id": "c3cd9008-c273-42b7-b5d9-17b15845f9c7",
   "metadata": {},
   "outputs": [
    {
     "name": "stdout",
     "output_type": "stream",
     "text": [
      "world\n"
     ]
    }
   ],
   "source": [
    "#Q10\n",
    "a = 'Hello world!'\n",
    "print(a[6:11])"
   ]
  },
  {
   "cell_type": "code",
   "execution_count": 23,
   "id": "6a30424b-c522-423b-8c7b-6409f948f43f",
   "metadata": {},
   "outputs": [
    {
     "name": "stdout",
     "output_type": "stream",
     "text": [
      "True\n"
     ]
    }
   ],
   "source": [
    "#Q11\n",
    "is_student = \"i am a student\"\n",
    "if is_student == \"i am a student\":\n",
    "    print(bool(is_student))\n",
    "\n",
    "    \n",
    "\n"
   ]
  },
  {
   "cell_type": "code",
   "execution_count": null,
   "id": "24f06666-77c8-4e8d-8348-be791ac2480d",
   "metadata": {},
   "outputs": [],
   "source": []
  }
 ],
 "metadata": {
  "kernelspec": {
   "display_name": "Python 3 (ipykernel)",
   "language": "python",
   "name": "python3"
  },
  "language_info": {
   "codemirror_mode": {
    "name": "ipython",
    "version": 3
   },
   "file_extension": ".py",
   "mimetype": "text/x-python",
   "name": "python",
   "nbconvert_exporter": "python",
   "pygments_lexer": "ipython3",
   "version": "3.10.8"
  }
 },
 "nbformat": 4,
 "nbformat_minor": 5
}
